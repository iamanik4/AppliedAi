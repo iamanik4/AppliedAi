{
 "cells": [
  {
   "cell_type": "markdown",
   "metadata": {},
   "source": [
    "# Task - 01"
   ]
  },
  {
   "cell_type": "markdown",
   "metadata": {},
   "source": [
    "## 1 Build a TF-IDF Vectorizer ¶"
   ]
  },
  {
   "cell_type": "markdown",
   "metadata": {},
   "source": [
    "### 1.1 Fit Function"
   ]
  },
  {
   "cell_type": "code",
   "execution_count": 1,
   "metadata": {},
   "outputs": [
    {
     "name": "stdout",
     "output_type": "stream",
     "text": [
      "{'and': 0, 'document': 1, 'first': 2, 'is': 3, 'one': 4, 'second': 5, 'the': 6, 'third': 7, 'this': 8}\n"
     ]
    }
   ],
   "source": [
    "from tqdm import tqdm \n",
    "def fit(data):\n",
    "    unique_word = set() #as set will take only unique values\n",
    "    if isinstance(data,list):\n",
    "        for ele in data:\n",
    "            for word in ele.split(\" \"):\n",
    "                if len(word) < 2:        #single alpabhet words don't add any value for analysis\n",
    "                    continue\n",
    "                unique_word.add(word)\n",
    "        unique_word = sorted(list(unique_word))   #sorting the unique values\n",
    "        vocab = {j:i for i,j in enumerate(unique_word)} #creating a dictionary with word as key and index as value\n",
    "        return vocab\n",
    "    else:\n",
    "        print(\"you need to pass list of sentance\")  \n",
    "data = ['this is the first document',\n",
    "     'this document is the second document',\n",
    "     'and this is the third one',\n",
    "     'is this the first document']\n",
    "vocab = fit(data)\n",
    "print(vocab)\n",
    "\n"
   ]
  },
  {
   "cell_type": "markdown",
   "metadata": {},
   "source": [
    "### 1.2 Transform Function"
   ]
  },
  {
   "cell_type": "code",
   "execution_count": 4,
   "metadata": {},
   "outputs": [
    {
     "name": "stdout",
     "output_type": "stream",
     "text": [
      "[[0.         0.46979139 0.58028582 0.38408524 0.         0.\n",
      "  0.38408524 0.         0.38408524]]\n"
     ]
    }
   ],
   "source": [
    "from collections import Counter\n",
    "from scipy.sparse import csr_matrix\n",
    "import math\n",
    "from sklearn.preprocessing import normalize as norm\n",
    "def transform(data,vocab): \n",
    "    rows = [] #for creating matrix,we need to store index value of sentence as row number\n",
    "    columns = [] #for creating matrix, we need to store index value of unique words as column value\n",
    "    final_col = [] \n",
    "    tf_values = [] #list to store tf_values\n",
    "    idf_values = {} #dictionar to store idf_values, where idf value is key and word is value\n",
    "   \n",
    "    if isinstance(data,(list,)):\n",
    "        for idx,row in enumerate(data):\n",
    "            word_dict = dict(Counter(row.split()))  \n",
    "            for word,freq in word_dict.items():\n",
    "                if len(word) < 2:\n",
    "                    continue\n",
    "                col_index = vocab.get(word,-1)\n",
    "                if col_index != -1:\n",
    "                    rows.append(idx)\n",
    "                    columns.append(col_index)                    \n",
    "                    tf = freq/len(row.split())\n",
    "                    tf_values.append(tf)\n",
    "                if col_index in idf_values:\n",
    "                    idf_values[col_index] += 1\n",
    "                else:\n",
    "                    idf_values[col_index] = 1\n",
    "    \n",
    "        for key,values in idf_values.items():\n",
    "            idf = 1 + math.log((1 +len(data))/(1 + values))\n",
    "            idf_values[key] = idf\n",
    "        \n",
    "        tfidf_values = [0]*len(columns)\n",
    "        for col in range(len(columns)):\n",
    "            a = columns[col]\n",
    "            tfidf_values[col] = tf_values[col]*idf_values[a] #final tf-idf values \n",
    "        matrix = csr_matrix((tfidf_values,(rows,columns)),shape = (len(data),len(vocab))) #sparse matrix\n",
    "        return norm(matrix)  #L2-norm using sklearn normalization\n",
    "    else:\n",
    "        print(\"you need to pass list of sentance\")\n",
    "vocab = fit(data)\n",
    "print(transform(data,vocab)[0].toarray())\n"
   ]
  },
  {
   "cell_type": "markdown",
   "metadata": {},
   "source": [
    "# Task - 02"
   ]
  },
  {
   "cell_type": "markdown",
   "metadata": {},
   "source": [
    "### 2.1 Loading Data"
   ]
  },
  {
   "cell_type": "code",
   "execution_count": 3,
   "metadata": {},
   "outputs": [
    {
     "name": "stdout",
     "output_type": "stream",
     "text": [
      "Number of documents in corpus =  746\n"
     ]
    }
   ],
   "source": [
    "import pickle\n",
    "with open('cleaned_strings', 'rb') as f:\n",
    "    corpus = pickle.load(f)\n",
    "    \n",
    "# printing the length of the corpus loaded\n",
    "print(\"Number of documents in corpus = \",len(corpus))"
   ]
  },
  {
   "cell_type": "markdown",
   "metadata": {},
   "source": [
    "### 2.2 Fit Function"
   ]
  },
  {
   "cell_type": "code",
   "execution_count": 5,
   "metadata": {},
   "outputs": [
    {
     "name": "stdout",
     "output_type": "stream",
     "text": [
      "{'screenplay': 0, 'dozen': 1, 'tightly': 2, 'overdue': 3, 'puzzle': 4, 'vitally': 5, 'aye': 6, 'solving': 7, 'th': 8, 'doomed': 9, 'drifting': 10, 'teacher': 11, 'florida': 12, 'practically': 13, 'occurs': 14, 'highest': 15, 'unlockable': 16, 'constructed': 17, 'existent': 18, 'content': 19, 'number': 20, 'person': 21, 'aimless': 22, 'buffet': 23, 'distressed': 24, 'conception': 25, 'pulls': 26, 'insane': 27, 'changing': 28, 'minor': 29, 'attempting': 30, 'artiness': 31, 'science': 32, 'structure': 33, 'post': 34, 'gerardo': 35, 'rocks': 36, 'punches': 37, 'properly': 38, 'nearly': 39, 'baby': 40, 'muppets': 41, 'owls': 42, 'tone': 43, 'fill': 44, 'superlative': 45, 'messages': 46, 'require': 47, 'emptiness': 48, 'effort': 49}\n"
     ]
    }
   ],
   "source": [
    "from tqdm import tqdm \n",
    "import operator\n",
    "import math\n",
    "def fit(data):\n",
    "    unique_word = set() #as set will take only unique values\n",
    "    freq_vocab = {}\n",
    "    idf_values = {}\n",
    "    if isinstance(data,list):\n",
    "        for ele in data:\n",
    "            for word in ele.split(\" \"):\n",
    "                if len(word) < 2:        #single alpabhet words don't add any value for analysis\n",
    "                    continue\n",
    "                if word in freq_vocab:\n",
    "                    freq_vocab[word] += 1\n",
    "                else:\n",
    "                    freq_vocab.update({word : 1})\n",
    "        for word,freq in freq_vocab.items():\n",
    "            idf = 1 + math.log((1 +len(data))/(1 + freq))\n",
    "            idf_values[word] = idf\n",
    "\n",
    "        sorted_idf_values = sorted(idf_values.items(), key = operator.itemgetter(1),reverse = True)\n",
    "        \n",
    "        top_50_sorted_idf_values = sorted_idf_values[0:50]\n",
    "        for i in top_50_sorted_idf_values:\n",
    "            unique_word.add(i[0]) \n",
    "        vocab = {j:i for i,j in enumerate(unique_word)} #creating a dictionary with word as key and index as value\n",
    "        return vocab\n",
    "    else:\n",
    "        print(\"you need to pass list of sentance\")  \n",
    "vocab = fit(corpus)\n",
    "print(vocab)"
   ]
  },
  {
   "cell_type": "markdown",
   "metadata": {},
   "source": [
    "### 2.3 Transform Function"
   ]
  },
  {
   "cell_type": "code",
   "execution_count": 6,
   "metadata": {},
   "outputs": [
    {
     "name": "stdout",
     "output_type": "stream",
     "text": [
      "idf_values {22: 6.922918004572872, 24: 6.922918004572872, 10: 6.922918004572872, 39: 6.922918004572872, 30: 6.922918004572872, 31: 6.922918004572872, 18: 6.922918004572872, 35: 6.922918004572872, 48: 6.922918004572872, 49: 6.922918004572872, 46: 6.922918004572872, 23: 6.922918004572872, 32: 6.922918004572872, 11: 6.922918004572872, 40: 6.922918004572872, 42: 6.922918004572872, 12: 6.922918004572872, 41: 6.922918004572872, 21: 6.922918004572872, 3: 6.922918004572872, 0: 6.922918004572872, 34: 6.922918004572872, 13: 6.922918004572872, 33: 6.922918004572872, 2: 6.922918004572872, 17: 6.922918004572872, 5: 6.922918004572872, 14: 6.922918004572872, 19: 6.922918004572872, 44: 6.922918004572872, 1: 6.922918004572872, 15: 6.922918004572872, 45: 6.922918004572872, 47: 6.922918004572872, 4: 6.922918004572872, 7: 6.922918004572872, 26: 6.922918004572872, 37: 6.922918004572872, 20: 6.922918004572872, 8: 6.922918004572872, 27: 6.922918004572872, 16: 6.922918004572872, 38: 6.922918004572872, 6: 6.922918004572872, 36: 6.922918004572872, 9: 6.922918004572872, 25: 6.922918004572872, 29: 6.922918004572872, 28: 6.922918004572872, 43: 6.922918004572872}\n",
      "[[0.         0.         0.         0.         0.         0.\n",
      "  0.         0.         0.         0.         0.57735027 0.\n",
      "  0.         0.         0.         0.         0.         0.\n",
      "  0.         0.         0.         0.         0.57735027 0.\n",
      "  0.57735027 0.         0.         0.         0.         0.\n",
      "  0.         0.         0.         0.         0.         0.\n",
      "  0.         0.         0.         0.         0.         0.\n",
      "  0.         0.         0.         0.         0.         0.\n",
      "  0.         0.        ]]\n"
     ]
    }
   ],
   "source": [
    "from collections import Counter\n",
    "from scipy.sparse import csr_matrix\n",
    "import math\n",
    "from sklearn.preprocessing import normalize as norm\n",
    "def transform(data,vocab): \n",
    "    rows = [] #for creating matrix,we need to store index value of sentence as row number\n",
    "    columns = [] #for creating matrix, we need to store index value of unique words as column value\n",
    "    tf_values = [] #list to store tf_values\n",
    "    idf_values = {} #dictionar to store idf_values, where idf value is key and word is value\n",
    "   \n",
    "    if isinstance(data,(list,)):\n",
    "        for idx,row in enumerate(data):\n",
    "            \n",
    "            word_dict = dict(Counter(row.split()))\n",
    "            for word,freq in word_dict.items():\n",
    "                if word in vocab:\n",
    "                    col_index = vocab.get(word,-1)\n",
    "                    if col_index != -1:\n",
    "                        rows.append(idx)\n",
    "                        columns.append(col_index)                    \n",
    "                        tf = freq/len(row.split())\n",
    "                        tf_values.append(tf)\n",
    "                        if col_index in idf_values:\n",
    "                            idf_values[col_index] += 1\n",
    "                        else:\n",
    "                            idf_values[col_index] = 1\n",
    "\n",
    "        for key,values in idf_values.items():\n",
    "            idf = 1 + math.log((1 +len(data))/(1 + values))\n",
    "            idf_values[key] = idf\n",
    "        print('idf_values',idf_values)\n",
    "        tfidf_values = [0]*len(columns)\n",
    "        for col in range(len(columns)):\n",
    "            a = columns[col]\n",
    "            tfidf_values[col] = tf_values[col]*idf_values[a] \n",
    "        matrix = csr_matrix((tfidf_values,(rows,columns)),shape = (len(data),len(vocab))) #sparse matrix\n",
    "        return norm(matrix)\n",
    "    else:\n",
    "        print(\"you need to pass list of sentance\")    \n",
    "vocab = fit(corpus)\n",
    "print(transform(corpus,vocab)[0].toarray())    "
   ]
  },
  {
   "cell_type": "code",
   "execution_count": null,
   "metadata": {},
   "outputs": [],
   "source": []
  },
  {
   "cell_type": "code",
   "execution_count": null,
   "metadata": {},
   "outputs": [],
   "source": []
  }
 ],
 "metadata": {
  "kernelspec": {
   "display_name": "Python 3",
   "language": "python",
   "name": "python3"
  },
  "language_info": {
   "codemirror_mode": {
    "name": "ipython",
    "version": 3
   },
   "file_extension": ".py",
   "mimetype": "text/x-python",
   "name": "python",
   "nbconvert_exporter": "python",
   "pygments_lexer": "ipython3",
   "version": "3.7.3"
  }
 },
 "nbformat": 4,
 "nbformat_minor": 2
}
