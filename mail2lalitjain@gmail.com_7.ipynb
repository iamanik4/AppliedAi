{
  "nbformat": 4,
  "nbformat_minor": 0,
  "metadata": {
    "colab": {
      "name": "mail2lalitjain@gmail.com_7.ipynb",
      "provenance": [],
      "collapsed_sections": []
    },
    "kernelspec": {
      "name": "python3",
      "display_name": "Python 3"
    }
  },
  "cells": [
    {
      "cell_type": "code",
      "metadata": {
        "id": "FpKcacwK57a0",
        "colab_type": "code",
        "colab": {}
      },
      "source": [
        "#loading a bunch of libraries\n",
        "import numpy as np\n",
        "import pandas as pd\n",
        "from sklearn.datasets import make_classification\n",
        "from sklearn.model_selection import train_test_split"
      ],
      "execution_count": 0,
      "outputs": []
    },
    {
      "cell_type": "markdown",
      "metadata": {
        "id": "G0yaCepj6SoL",
        "colab_type": "text"
      },
      "source": [
        "1.1 Creating dataset"
      ]
    },
    {
      "cell_type": "code",
      "metadata": {
        "id": "uJeXqTHz6dB1",
        "colab_type": "code",
        "colab": {}
      },
      "source": [
        "X, y = make_classification(n_samples=50000, n_features=15, n_informative=10, n_redundant=5,\n",
        "                           n_classes=2, weights=[0.7], class_sep=0.7, random_state=15)"
      ],
      "execution_count": 0,
      "outputs": []
    },
    {
      "cell_type": "markdown",
      "metadata": {
        "id": "8XkqOjc16mPB",
        "colab_type": "text"
      },
      "source": [
        "1.2 Train Test Split"
      ]
    },
    {
      "cell_type": "code",
      "metadata": {
        "id": "yZEK-_WM6rJJ",
        "colab_type": "code",
        "outputId": "35541b44-468c-4425-d8df-375326976755",
        "colab": {
          "base_uri": "https://localhost:8080/",
          "height": 35
        }
      },
      "source": [
        "X_train, X_test, y_train, y_test = train_test_split(X, y, test_size=0.25, random_state=15)\n",
        "X_train.shape, y_train.shape, X_test.shape, y_test.shape"
      ],
      "execution_count": 21,
      "outputs": [
        {
          "output_type": "execute_result",
          "data": {
            "text/plain": [
              "((37500, 15), (37500,), (12500, 15), (12500,))"
            ]
          },
          "metadata": {
            "tags": []
          },
          "execution_count": 21
        }
      ]
    },
    {
      "cell_type": "markdown",
      "metadata": {
        "id": "PnTtl99p67gr",
        "colab_type": "text"
      },
      "source": [
        "1.3 Initializing Weight Vector and Intercept"
      ]
    },
    {
      "cell_type": "code",
      "metadata": {
        "id": "SynjKHRf68o6",
        "colab_type": "code",
        "colab": {}
      },
      "source": [
        "#initializing weight vector \n",
        "weight_vec = np.zeros_like(X_train[0])\n",
        "# initializing bias \n",
        "bias = 0\n",
        "#initializing regularizier\n",
        "eta0  = 0.0001\n",
        "#initializing learning rate\n",
        "alpha = 0.0001"
      ],
      "execution_count": 0,
      "outputs": []
    },
    {
      "cell_type": "markdown",
      "metadata": {
        "id": "u3LP_0bR7AMu",
        "colab_type": "text"
      },
      "source": [
        "1.4 Sigmoid Function"
      ]
    },
    {
      "cell_type": "code",
      "metadata": {
        "id": "El6AQWbl7DrA",
        "colab_type": "code",
        "outputId": "2e4d46de-3f1b-4364-fb44-df0d84bd6e93",
        "colab": {
          "base_uri": "https://localhost:8080/",
          "height": 53
        }
      },
      "source": [
        "def sig_func(x,w,b):\n",
        "    z = (np.dot(x,w.T) + b)\n",
        "    return 1 / (1 + np.exp(-z))\n",
        "y_hat = sig_func(X_train,weight_vec,bias)\n",
        "print('y_hat',y_hat)\n",
        "print('shape of sigmoid output value',y_hat.shape)"
      ],
      "execution_count": 23,
      "outputs": [
        {
          "output_type": "stream",
          "text": [
            "y_hat [0.5 0.5 0.5 ... 0.5 0.5 0.5]\n",
            "shape of sigmoid output value (37500,)\n"
          ],
          "name": "stdout"
        }
      ]
    },
    {
      "cell_type": "markdown",
      "metadata": {
        "id": "HcyJbZVl7YC4",
        "colab_type": "text"
      },
      "source": [
        "1.5 Loss Function"
      ]
    },
    {
      "cell_type": "code",
      "metadata": {
        "id": "Lzu9LkbT7Zu-",
        "colab_type": "code",
        "outputId": "8f8356e5-2507-49ef-d918-e0cadf822646",
        "colab": {
          "base_uri": "https://localhost:8080/",
          "height": 35
        }
      },
      "source": [
        "#calculating the initial loss on train data\n",
        "def loss_func(y_hat,y_train):\n",
        "    return(-y_train * np.log(y_hat + 0.001) - (1 - y_train) * np.log(1 - y_hat+0.001)).mean()\n",
        "loss_train = []\n",
        "a = loss_func(y_hat,y_train)\n",
        "loss_train.append(a)\n",
        "print('loss_train',loss_train)"
      ],
      "execution_count": 24,
      "outputs": [
        {
          "output_type": "stream",
          "text": [
            "loss_train [0.6911491778972725]\n"
          ],
          "name": "stdout"
        }
      ]
    },
    {
      "cell_type": "code",
      "metadata": {
        "id": "wMfoigI27nRC",
        "colab_type": "code",
        "outputId": "5c418b14-39f6-4f5d-b784-945d18da722c",
        "colab": {
          "base_uri": "https://localhost:8080/",
          "height": 53
        }
      },
      "source": [
        "y_hat_test = sig_func(X_test,weight_vec,bias)\n",
        "print('y_hat_test',y_hat_test)\n",
        "print('shape of sigmoid output value',y_hat_test.shape)"
      ],
      "execution_count": 25,
      "outputs": [
        {
          "output_type": "stream",
          "text": [
            "y_hat_test [0.5 0.5 0.5 ... 0.5 0.5 0.5]\n",
            "shape of sigmoid output value (12500,)\n"
          ],
          "name": "stdout"
        }
      ]
    },
    {
      "cell_type": "code",
      "metadata": {
        "id": "XP5th_tg7ruG",
        "colab_type": "code",
        "outputId": "60a3e8ef-877d-4bd7-89f9-1158dbda9b98",
        "colab": {
          "base_uri": "https://localhost:8080/",
          "height": 35
        }
      },
      "source": [
        "loss_test = []\n",
        "b = loss_func(y_hat_test,y_test)\n",
        "loss_test.append(b)\n",
        "print('loss on test data',loss_test)"
      ],
      "execution_count": 26,
      "outputs": [
        {
          "output_type": "stream",
          "text": [
            "loss on test data [0.6911491778972725]\n"
          ],
          "name": "stdout"
        }
      ]
    },
    {
      "cell_type": "markdown",
      "metadata": {
        "id": "VhE08FI87w9Z",
        "colab_type": "text"
      },
      "source": [
        "1.6 Gradient"
      ]
    },
    {
      "cell_type": "code",
      "metadata": {
        "id": "D6oggJ337x-g",
        "colab_type": "code",
        "outputId": "01b1b533-d0b5-4e5b-d8a9-23cdb0cc99f6",
        "colab": {
          "base_uri": "https://localhost:8080/",
          "height": 582
        }
      },
      "source": [
        "epochs = 10\n",
        "N = len(X_train)\n",
        "for i in range(epochs):\n",
        "    for j in range(len(X_train)):\n",
        "        weight_vec = ((alpha*X_train[j]*(y_train[j] - sig_func(X_train[j],weight_vec,bias))) + (1- ((alpha*eta0)/N))*weight_vec)\n",
        "        bias = bias + (alpha*(y_train[j] - sig_func(X_train[j],weight_vec,bias)))\n",
        "        \n",
        "    y_hat = sig_func(X_train,weight_vec,bias)\n",
        "    a = loss_func(y_hat,y_train)\n",
        "    loss_train.append(a)\n",
        "    print('loss on train data',loss_train)\n",
        "    y_hat_test = sig_func(X_test,weight_vec,bias)\n",
        "    b = loss_func(y_hat_test,y_test)\n",
        "    loss_test.append(b)\n",
        "    print('loss on test data',loss_test)\n",
        "    print('*'*100)"
      ],
      "execution_count": 27,
      "outputs": [
        {
          "output_type": "stream",
          "text": [
            "loss on train data [0.6911491778972725, 0.402283496910999]\n",
            "loss on test data [0.6911491778972725, 0.4034057453324119]\n",
            "****************************************************************************************************\n",
            "loss on train data [0.6911491778972725, 0.402283496910999, 0.38657555023501744]\n",
            "loss on test data [0.6911491778972725, 0.4034057453324119, 0.38820924240548876]\n",
            "****************************************************************************************************\n",
            "loss on train data [0.6911491778972725, 0.402283496910999, 0.38657555023501744, 0.3812734765589849]\n",
            "loss on test data [0.6911491778972725, 0.4034057453324119, 0.38820924240548876, 0.38309406277196917]\n",
            "****************************************************************************************************\n",
            "loss on train data [0.6911491778972725, 0.402283496910999, 0.38657555023501744, 0.3812734765589849, 0.3788800602156792]\n",
            "loss on test data [0.6911491778972725, 0.4034057453324119, 0.38820924240548876, 0.38309406277196917, 0.38077225543331383]\n",
            "****************************************************************************************************\n",
            "loss on train data [0.6911491778972725, 0.402283496910999, 0.38657555023501744, 0.3812734765589849, 0.3788800602156792, 0.3776755449332751]\n",
            "loss on test data [0.6911491778972725, 0.4034057453324119, 0.38820924240548876, 0.38309406277196917, 0.38077225543331383, 0.37959334392330357]\n",
            "****************************************************************************************************\n",
            "loss on train data [0.6911491778972725, 0.402283496910999, 0.38657555023501744, 0.3812734765589849, 0.3788800602156792, 0.3776755449332751, 0.37703572423824694]\n",
            "loss on test data [0.6911491778972725, 0.4034057453324119, 0.38820924240548876, 0.38309406277196917, 0.38077225543331383, 0.37959334392330357, 0.37896055952123336]\n",
            "****************************************************************************************************\n",
            "loss on train data [0.6911491778972725, 0.402283496910999, 0.38657555023501744, 0.3812734765589849, 0.3788800602156792, 0.3776755449332751, 0.37703572423824694, 0.37668501037376784]\n",
            "loss on test data [0.6911491778972725, 0.4034057453324119, 0.38820924240548876, 0.38309406277196917, 0.38077225543331383, 0.37959334392330357, 0.37896055952123336, 0.3786097337642279]\n",
            "****************************************************************************************************\n",
            "loss on train data [0.6911491778972725, 0.402283496910999, 0.38657555023501744, 0.3812734765589849, 0.3788800602156792, 0.3776755449332751, 0.37703572423824694, 0.37668501037376784, 0.3764886842013468]\n",
            "loss on test data [0.6911491778972725, 0.4034057453324119, 0.38820924240548876, 0.38309406277196917, 0.38077225543331383, 0.37959334392330357, 0.37896055952123336, 0.3786097337642279, 0.37841091872604576]\n",
            "****************************************************************************************************\n",
            "loss on train data [0.6911491778972725, 0.402283496910999, 0.38657555023501744, 0.3812734765589849, 0.3788800602156792, 0.3776755449332751, 0.37703572423824694, 0.37668501037376784, 0.3764886842013468, 0.3763769913731144]\n",
            "loss on test data [0.6911491778972725, 0.4034057453324119, 0.38820924240548876, 0.38309406277196917, 0.38077225543331383, 0.37959334392330357, 0.37896055952123336, 0.3786097337642279, 0.37841091872604576, 0.3782962907036718]\n",
            "****************************************************************************************************\n",
            "loss on train data [0.6911491778972725, 0.402283496910999, 0.38657555023501744, 0.3812734765589849, 0.3788800602156792, 0.3776755449332751, 0.37703572423824694, 0.37668501037376784, 0.3764886842013468, 0.3763769913731144, 0.37631254342952736]\n",
            "loss on test data [0.6911491778972725, 0.4034057453324119, 0.38820924240548876, 0.38309406277196917, 0.38077225543331383, 0.37959334392330357, 0.37896055952123336, 0.3786097337642279, 0.37841091872604576, 0.3782962907036718, 0.37822917454369037]\n",
            "****************************************************************************************************\n"
          ],
          "name": "stdout"
        }
      ]
    },
    {
      "cell_type": "code",
      "metadata": {
        "id": "4r1BEUNu8Qu-",
        "colab_type": "code",
        "outputId": "af13d779-598f-41ca-a601-537c01b4cb67",
        "colab": {
          "base_uri": "https://localhost:8080/",
          "height": 72
        }
      },
      "source": [
        "weight_vec"
      ],
      "execution_count": 28,
      "outputs": [
        {
          "output_type": "execute_result",
          "data": {
            "text/plain": [
              "array([-0.42315311,  0.19095979, -0.14588118,  0.33814991, -0.21196623,\n",
              "        0.56525978, -0.44538357, -0.09171679,  0.21795314,  0.16977398,\n",
              "        0.19522044,  0.00229554, -0.07781461,  0.33882618,  0.02214234])"
            ]
          },
          "metadata": {
            "tags": []
          },
          "execution_count": 28
        }
      ]
    },
    {
      "cell_type": "code",
      "metadata": {
        "id": "lF89clNq8Tij",
        "colab_type": "code",
        "outputId": "f1ef1028-4c7d-46e1-a2fc-9ad8a645f2a1",
        "colab": {
          "base_uri": "https://localhost:8080/",
          "height": 35
        }
      },
      "source": [
        "bias"
      ],
      "execution_count": 29,
      "outputs": [
        {
          "output_type": "execute_result",
          "data": {
            "text/plain": [
              "-0.8500967712837227"
            ]
          },
          "metadata": {
            "tags": []
          },
          "execution_count": 29
        }
      ]
    },
    {
      "cell_type": "markdown",
      "metadata": {
        "id": "BRwX7ark8dNk",
        "colab_type": "text"
      },
      "source": [
        "Plotting Train and Test loss"
      ]
    },
    {
      "cell_type": "code",
      "metadata": {
        "id": "kdv8mN1u8ehp",
        "colab_type": "code",
        "outputId": "d2b49117-9ae7-4a1b-b829-7342da15716d",
        "colab": {
          "base_uri": "https://localhost:8080/",
          "height": 295
        }
      },
      "source": [
        "%matplotlib inline\n",
        "import matplotlib.pyplot as plt\n",
        "epochs_list = [0,1,2,3,4,5,6,7,8,9,10]\n",
        "plt.plot(epochs_list,loss_train, label='train cruve')\n",
        "plt.plot(epochs_list,loss_test, label='test cruve')\n",
        "plt.title('epoch VS loss plot')\n",
        "plt.xlabel('epoch value')\n",
        "plt.ylabel('loss value ')\n",
        "plt.legend()\n",
        "plt.show()"
      ],
      "execution_count": 30,
      "outputs": [
        {
          "output_type": "display_data",
          "data": {
            "image/png": "[encoded data removed]",
            "text/plain": [
              "<Figure size 432x288 with 1 Axes>"
            ]
          },
          "metadata": {
            "tags": []
          }
        }
      ]
    },
    {
      "cell_type": "markdown",
      "metadata": {
        "id": "vNxj5ABo8r19",
        "colab_type": "text"
      },
      "source": [
        "Applying Sklearn LR "
      ]
    },
    {
      "cell_type": "code",
      "metadata": {
        "id": "fGI7oJ1l8sSK",
        "colab_type": "code",
        "outputId": "b21b7708-dd44-4f70-95db-d4e3cb8a1803",
        "colab": {
          "base_uri": "https://localhost:8080/",
          "height": 126
        }
      },
      "source": [
        "from sklearn import linear_model\n",
        "clf = linear_model.SGDClassifier(eta0=0.0001, alpha=0.0001, loss='log', random_state=15, penalty='l2', tol=1e-3, verbose=2, learning_rate='constant')\n",
        "clf"
      ],
      "execution_count": 31,
      "outputs": [
        {
          "output_type": "execute_result",
          "data": {
            "text/plain": [
              "SGDClassifier(alpha=0.0001, average=False, class_weight=None,\n",
              "              early_stopping=False, epsilon=0.1, eta0=0.0001,\n",
              "              fit_intercept=True, l1_ratio=0.15, learning_rate='constant',\n",
              "              loss='log', max_iter=1000, n_iter_no_change=5, n_jobs=None,\n",
              "              penalty='l2', power_t=0.5, random_state=15, shuffle=True,\n",
              "              tol=0.001, validation_fraction=0.1, verbose=2, warm_start=False)"
            ]
          },
          "metadata": {
            "tags": []
          },
          "execution_count": 31
        }
      ]
    },
    {
      "cell_type": "code",
      "metadata": {
        "id": "YCFV8Fk_9Gln",
        "colab_type": "code",
        "outputId": "e45dd3eb-a08c-4ae2-c984-25a1ae131bc7",
        "colab": {
          "base_uri": "https://localhost:8080/",
          "height": 689
        }
      },
      "source": [
        "clf.fit(X=X_train, y=y_train)"
      ],
      "execution_count": 32,
      "outputs": [
        {
          "output_type": "stream",
          "text": [
            "-- Epoch 1\n",
            "Norm: 0.77, NNZs: 15, Bias: -0.316653, T: 37500, Avg. loss: 0.455552\n",
            "Total training time: 0.02 seconds.\n",
            "-- Epoch 2\n",
            "Norm: 0.91, NNZs: 15, Bias: -0.472747, T: 75000, Avg. loss: 0.394686\n",
            "Total training time: 0.03 seconds.\n",
            "-- Epoch 3\n",
            "Norm: 0.98, NNZs: 15, Bias: -0.580082, T: 112500, Avg. loss: 0.385711\n",
            "Total training time: 0.04 seconds.\n",
            "-- Epoch 4\n",
            "Norm: 1.02, NNZs: 15, Bias: -0.658292, T: 150000, Avg. loss: 0.382083\n",
            "Total training time: 0.05 seconds.\n",
            "-- Epoch 5\n",
            "Norm: 1.04, NNZs: 15, Bias: -0.719528, T: 187500, Avg. loss: 0.380486\n",
            "Total training time: 0.06 seconds.\n",
            "-- Epoch 6\n",
            "Norm: 1.05, NNZs: 15, Bias: -0.763409, T: 225000, Avg. loss: 0.379578\n",
            "Total training time: 0.07 seconds.\n",
            "-- Epoch 7\n",
            "Norm: 1.06, NNZs: 15, Bias: -0.795106, T: 262500, Avg. loss: 0.379150\n",
            "Total training time: 0.08 seconds.\n",
            "-- Epoch 8\n",
            "Norm: 1.06, NNZs: 15, Bias: -0.819925, T: 300000, Avg. loss: 0.378856\n",
            "Total training time: 0.09 seconds.\n",
            "-- Epoch 9\n",
            "Norm: 1.07, NNZs: 15, Bias: -0.837805, T: 337500, Avg. loss: 0.378585\n",
            "Total training time: 0.11 seconds.\n",
            "-- Epoch 10\n",
            "Norm: 1.08, NNZs: 15, Bias: -0.853138, T: 375000, Avg. loss: 0.378630\n",
            "Total training time: 0.12 seconds.\n",
            "Convergence after 10 epochs took 0.12 seconds\n"
          ],
          "name": "stdout"
        },
        {
          "output_type": "execute_result",
          "data": {
            "text/plain": [
              "SGDClassifier(alpha=0.0001, average=False, class_weight=None,\n",
              "              early_stopping=False, epsilon=0.1, eta0=0.0001,\n",
              "              fit_intercept=True, l1_ratio=0.15, learning_rate='constant',\n",
              "              loss='log', max_iter=1000, n_iter_no_change=5, n_jobs=None,\n",
              "              penalty='l2', power_t=0.5, random_state=15, shuffle=True,\n",
              "              tol=0.001, validation_fraction=0.1, verbose=2, warm_start=False)"
            ]
          },
          "metadata": {
            "tags": []
          },
          "execution_count": 32
        }
      ]
    },
    {
      "cell_type": "code",
      "metadata": {
        "id": "jfEqHOOg9gVF",
        "colab_type": "code",
        "outputId": "9b2b441a-83b0-4666-ab62-25fbe282184d",
        "colab": {
          "base_uri": "https://localhost:8080/",
          "height": 108
        }
      },
      "source": [
        "clf.coef_, clf.coef_.shape, clf.intercept_\n"
      ],
      "execution_count": 33,
      "outputs": [
        {
          "output_type": "execute_result",
          "data": {
            "text/plain": [
              "(array([[-0.42336692,  0.18547565, -0.14859036,  0.34144407, -0.2081867 ,\n",
              "          0.56016579, -0.45242483, -0.09408813,  0.2092732 ,  0.18084126,\n",
              "          0.19705191,  0.00421916, -0.0796037 ,  0.33852802,  0.02266721]]),\n",
              " (1, 15),\n",
              " array([-0.8531383]))"
            ]
          },
          "metadata": {
            "tags": []
          },
          "execution_count": 33
        }
      ]
    },
    {
      "cell_type": "code",
      "metadata": {
        "id": "NTVvPOKWMN91",
        "colab_type": "code",
        "colab": {}
      },
      "source": [
        "sklearn_weight_vec = clf.coef_\n",
        "sklearn_bias = clf.intercept_"
      ],
      "execution_count": 0,
      "outputs": []
    },
    {
      "cell_type": "code",
      "metadata": {
        "id": "D9bvmAnWMlZK",
        "colab_type": "code",
        "outputId": "bab1c37c-8e9c-4c78-b050-19eb1f8b293e",
        "colab": {
          "base_uri": "https://localhost:8080/",
          "height": 72
        }
      },
      "source": [
        "print('difference between weights is:- ', weight_vec - sklearn_weight_vec)"
      ],
      "execution_count": 35,
      "outputs": [
        {
          "output_type": "stream",
          "text": [
            "difference between weights is:-  [[ 0.0002138   0.00548413  0.00270918 -0.00329416 -0.00377953  0.00509399\n",
            "   0.00704126  0.00237134  0.00867994 -0.01106728 -0.00183147 -0.00192361\n",
            "   0.00178909  0.00029817 -0.00052487]]\n"
          ],
          "name": "stdout"
        }
      ]
    },
    {
      "cell_type": "code",
      "metadata": {
        "id": "zpF2Oont5d9M",
        "colab_type": "code",
        "colab": {
          "base_uri": "https://localhost:8080/",
          "height": 35
        },
        "outputId": "18385b51-bbed-4f1c-d7f0-ff3d03263465"
      },
      "source": [
        "print('difference between weights is:- ', bias - sklearn_bias)"
      ],
      "execution_count": 36,
      "outputs": [
        {
          "output_type": "stream",
          "text": [
            "difference between weights is:-  [0.00304153]\n"
          ],
          "name": "stdout"
        }
      ]
    }
  ]
}