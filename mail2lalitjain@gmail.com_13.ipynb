{
 "cells": [
  {
   "cell_type": "markdown",
   "metadata": {
    "colab_type": "text",
    "id": "AjzGopb_YcKR"
   },
   "source": [
    "# Application of Bootstrap samples in Random Forest"
   ]
  },
  {
   "cell_type": "markdown",
   "metadata": {},
   "source": [
    "# Task 1"
   ]
  },
  {
   "cell_type": "markdown",
   "metadata": {},
   "source": [
    "## 1.1 Creating Bagging samples"
   ]
  },
  {
   "cell_type": "code",
   "execution_count": 1,
   "metadata": {
    "colab": {},
    "colab_type": "code",
    "id": "zZSCtDI6YcKT"
   },
   "outputs": [],
   "source": [
    "import numpy as np\n",
    "import pandas as pd\n",
    "from sklearn.datasets import load_boston\n",
    "from sklearn.metrics import mean_squared_error as mse\n",
    "from sklearn.tree import DecisionTreeRegressor as reg\n",
    "import random\n",
    "from collections import defaultdict"
   ]
  },
  {
   "cell_type": "markdown",
   "metadata": {
    "colab_type": "text",
    "id": "h2Y1Z1DoYcKZ"
   },
   "source": [
    " <li> Load the boston house dataset </li>"
   ]
  },
  {
   "cell_type": "code",
   "execution_count": 2,
   "metadata": {
    "colab": {},
    "colab_type": "code",
    "id": "wBWRNKCDYcKb"
   },
   "outputs": [],
   "source": [
    "boston = load_boston()\n",
    "#x=boston.data #independent variables\n",
    "#y=boston.target #target variable"
   ]
  },
  {
   "cell_type": "code",
   "execution_count": 3,
   "metadata": {},
   "outputs": [],
   "source": [
    "data = pd.DataFrame(boston.data, columns=boston.feature_names)\n",
    "data['target'] = pd.Series(boston.target)\n",
    "x = data.drop(['target'],axis = 1)\n",
    "y = data['target']"
   ]
  },
  {
   "cell_type": "code",
   "execution_count": 4,
   "metadata": {},
   "outputs": [],
   "source": [
    "sample_row_idx = []\n",
    "sample_col_idx = []\n",
    "for i in range(30):\n",
    "    sample_1 = np.array(random.sample(range(0, len(y)),303))\n",
    "    sample_2 = np.random.choice(sample_1,203)\n",
    "    sample = list(np.concatenate((sample_1,sample_2)))\n",
    "    sample_row_idx.append(sample)\n",
    "    size_val = np.random.randint(3,13)\n",
    "    sample_col_idx.append(list(set(np.random.randint(0,13,size = size_val)))) \n",
    "    "
   ]
  },
  {
   "cell_type": "markdown",
   "metadata": {},
   "source": [
    "## 1.2 Building High Variance Model"
   ]
  },
  {
   "cell_type": "code",
   "execution_count": 5,
   "metadata": {},
   "outputs": [],
   "source": [
    "corpus = []\n",
    "for i in range(30):\n",
    "    x_sample = x.iloc[sample_row_idx[i],sample_col_idx[i]] \n",
    "    y_sample = y.iloc[sample_row_idx[i]]\n",
    "    regressor = reg(min_samples_split = 10,min_samples_leaf = 5)\n",
    "    regressor.fit(x_sample,y_sample)\n",
    "    df = x[x.columns.intersection(x_sample.columns)]\n",
    "    corpus.append(regressor.predict(df).tolist())\n",
    "    "
   ]
  },
  {
   "cell_type": "code",
   "execution_count": 6,
   "metadata": {},
   "outputs": [],
   "source": [
    "y_pred_ele = []\n",
    "for p in range(len(corpus[0])):\n",
    "    y_pred_list = []\n",
    "    for q in range(len(corpus)):\n",
    "        y_pred_list.append(corpus[q][p])\n",
    "    y_pred_ele.append(y_pred_list)    "
   ]
  },
  {
   "cell_type": "code",
   "execution_count": 7,
   "metadata": {},
   "outputs": [],
   "source": [
    "y_pred = [0]*506\n",
    "for r in range(len(y_pred_ele)):\n",
    "    y_pred[r] = sum(y_pred_ele[r])/len(y_pred_ele[r])"
   ]
  },
  {
   "cell_type": "code",
   "execution_count": 8,
   "metadata": {},
   "outputs": [
    {
     "name": "stdout",
     "output_type": "stream",
     "text": [
      "6.528608657692322\n"
     ]
    }
   ],
   "source": [
    "#mean square error\n",
    "loss = mse(y,y_pred)\n",
    "print(loss)"
   ]
  },
  {
   "cell_type": "markdown",
   "metadata": {},
   "source": [
    "## 1.3 OOB score        "
   ]
  },
  {
   "cell_type": "code",
   "execution_count": 9,
   "metadata": {},
   "outputs": [],
   "source": [
    "oob_corpus = []\n",
    "uni_sample_row_idx = []\n",
    "idx_pred_value = []\n",
    "for i in range(30):\n",
    "    x_sample = x.iloc[sample_row_idx[i],sample_col_idx[i]] \n",
    "    y_sample = y.iloc[sample_row_idx[i]]\n",
    "    regressor = reg()\n",
    "    regressor.fit(x_sample,y_sample)\n",
    "    uni_sample_row_idx = list(np.unique(np.array(sample_row_idx[i])))\n",
    "    oob_df = x[x.columns.intersection(x_sample.columns)]\n",
    "    oob_df = oob_df.drop(uni_sample_row_idx)\n",
    "    oob_corpus.append(regressor.predict(oob_df).tolist())       \n",
    "    idx_pred_value.append(dict(zip(list(oob_df.index.values),oob_corpus[i])))       "
   ]
  },
  {
   "cell_type": "code",
   "execution_count": 10,
   "metadata": {},
   "outputs": [],
   "source": [
    "from collections import defaultdict\n",
    "some_dict = defaultdict(list)\n",
    "index_dict = dict.fromkeys(range(506))\n",
    "list_of_dicts = [index_dict]+[idx_pred_value[i] for i in range(30)]\n",
    "for d in list_of_dicts:\n",
    "    for key, value in d.items():\n",
    "        some_dict[key].append(value)"
   ]
  },
  {
   "cell_type": "code",
   "execution_count": 11,
   "metadata": {},
   "outputs": [],
   "source": [
    "values = list(some_dict.values())\n",
    "oob_y_pred = [0]*506\n",
    "for ele in range(len(values)):\n",
    "    values[ele].pop(0)\n",
    "    y_pred_value = sum(values[ele])/len(values[ele])\n",
    "    oob_y_pred[ele] = y_pred_value "
   ]
  },
  {
   "cell_type": "code",
   "execution_count": 12,
   "metadata": {},
   "outputs": [
    {
     "name": "stdout",
     "output_type": "stream",
     "text": [
      "13.76566733746637\n"
     ]
    }
   ],
   "source": [
    "OOB_Score = mse(y,oob_y_pred)\n",
    "print(OOB_Score)"
   ]
  },
  {
   "cell_type": "markdown",
   "metadata": {},
   "source": [
    "# Task 2 Computing CI of OOB Score and Train MSE"
   ]
  },
  {
   "cell_type": "code",
   "execution_count": 13,
   "metadata": {},
   "outputs": [],
   "source": [
    "def MSE_loss():\n",
    "    sample_row_idx = []\n",
    "    sample_col_idx = []\n",
    "    for i in range(30):\n",
    "        sample_1 = np.array(random.sample(range(0, len(y)),303))\n",
    "        sample_2 = np.random.choice(sample_1,203)\n",
    "        sample = list(np.concatenate((sample_1,sample_2)))\n",
    "        sample_row_idx.append(sample)\n",
    "        size_val = np.random.randint(3,13)\n",
    "        sample_col_idx.append(list(set(np.random.randint(0,13,size = size_val))))\n",
    "    corpus = []\n",
    "    for i in range(30):\n",
    "        x_sample = x.iloc[sample_row_idx[i],sample_col_idx[i]] \n",
    "        y_sample = y.iloc[sample_row_idx[i]]\n",
    "        regressor = reg()\n",
    "        regressor.fit(x_sample,y_sample)\n",
    "        df = x[x.columns.intersection(x_sample.columns)]\n",
    "        corpus.append(regressor.predict(df).tolist())\n",
    "    y_pred_idx = []\n",
    "    for p in range(len(corpus[0])):\n",
    "        y_pred_list = []\n",
    "        for q in range(len(corpus)):\n",
    "            y_pred_list.append(corpus[q][p])\n",
    "        y_pred_idx.append(y_pred_list)\n",
    "    \n",
    "    y_pred = [0]*506\n",
    "    for r in range(len(y_pred_idx)):\n",
    "        y_pred[r] = sum(y_pred_idx[r])/len(y_pred_idx[r])    \n",
    "    return mse(y,y_pred)\n"
   ]
  },
  {
   "cell_type": "code",
   "execution_count": 14,
   "metadata": {},
   "outputs": [],
   "source": [
    "def OOB_score():\n",
    "    sample_row_idx = []\n",
    "    sample_col_idx = []\n",
    "    for i in range(30):\n",
    "        sample_1 = np.array(random.sample(range(0, len(y)),303))\n",
    "        sample_2 = np.random.choice(sample_1,203)\n",
    "        sample = list(np.concatenate((sample_1,sample_2)))\n",
    "        sample_row_idx.append(sample)\n",
    "        size_val = np.random.randint(3,13)\n",
    "        sample_col_idx.append(list(set(np.random.randint(0,13,size = size_val))))\n",
    "    oob_corpus = []\n",
    "    uni_sample_row_idx = []\n",
    "    idx_pred_value = []\n",
    "    for i in range(30):\n",
    "        x_sample = x.iloc[sample_row_idx[i],sample_col_idx[i]] \n",
    "        y_sample = y.iloc[sample_row_idx[i]]\n",
    "        regressor = reg()\n",
    "        regressor.fit(x_sample,y_sample)\n",
    "        uni_sample_row_idx = list(np.unique(np.array(sample_row_idx[i])))\n",
    "        oob_df = x[x.columns.intersection(x_sample.columns)]\n",
    "        oob_df = oob_df.drop(uni_sample_row_idx)\n",
    "        oob_corpus.append(regressor.predict(oob_df).tolist())       \n",
    "        idx_pred_value.append(dict(zip(list(oob_df.index.values),oob_corpus[i])))\n",
    "    some_dict = defaultdict(list)\n",
    "    index_dict = dict.fromkeys(range(506))\n",
    "    list_of_dicts = [index_dict]+[idx_pred_value[i] for i in range(30)]\n",
    "    for d in list_of_dicts:\n",
    "        for key, value in d.items():\n",
    "            some_dict[key].append(value)\n",
    "            \n",
    "    values = list(some_dict.values())\n",
    "    oob_y_pred = [0]*506\n",
    "    for ele in range(len(values)):\n",
    "        values[ele].pop(0)\n",
    "        y_pred_value = sum(values[ele])/len(values[ele])\n",
    "        oob_y_pred[ele] = y_pred_value        \n",
    "    return mse(y,oob_y_pred)"
   ]
  },
  {
   "cell_type": "code",
   "execution_count": 15,
   "metadata": {},
   "outputs": [],
   "source": [
    "mse_35 = []\n",
    "oob_35 = []\n",
    "for err in range(35):\n",
    "    mse_val = MSE_loss()\n",
    "    oob_val = OOB_score()\n",
    "    mse_35.append(mse_val)\n",
    "    oob_35.append(oob_val)"
   ]
  },
  {
   "cell_type": "code",
   "execution_count": 16,
   "metadata": {},
   "outputs": [],
   "source": [
    "import statistics as stat\n",
    "mean_mse = sum(mse_35)/len(mse_35)\n",
    "mean_oob = sum(oob_35)/len(oob_35)\n",
    "mse_std_dev = stat.stdev(mse_35)\n",
    "oob_std_dev = stat.stdev(oob_35)"
   ]
  },
  {
   "cell_type": "code",
   "execution_count": 17,
   "metadata": {},
   "outputs": [
    {
     "data": {
      "text/plain": [
       "[1.6587020546212852, 3.3971202205476656]"
      ]
     },
     "execution_count": 17,
     "metadata": {},
     "output_type": "execute_result"
    }
   ],
   "source": [
    "c_i_mse = [0]*2\n",
    "c_i_mse[0] = mean_mse - (mse_std_dev*1.96) \n",
    "c_i_mse[1] = mean_mse + (mse_std_dev*1.96)\n",
    "c_i_mse"
   ]
  },
  {
   "cell_type": "code",
   "execution_count": 18,
   "metadata": {},
   "outputs": [
    {
     "data": {
      "text/plain": [
       "[11.361155535999641, 17.573127945225437]"
      ]
     },
     "execution_count": 18,
     "metadata": {},
     "output_type": "execute_result"
    }
   ],
   "source": [
    "c_i_oob = [0]*2\n",
    "c_i_oob[0] = mean_oob - (oob_std_dev*1.96) \n",
    "c_i_oob[1] = mean_oob + (oob_std_dev*1.96)\n",
    "c_i_oob"
   ]
  },
  {
   "cell_type": "markdown",
   "metadata": {},
   "source": [
    "# Task 3"
   ]
  },
  {
   "cell_type": "code",
   "execution_count": 19,
   "metadata": {},
   "outputs": [],
   "source": [
    "sample_row_idx = []\n",
    "sample_col_idx = []\n",
    "for i in range(30):\n",
    "    sample_1 = np.array(random.sample(range(0, len(y)),303))\n",
    "    sample_2 = np.random.choice(sample_1,203)\n",
    "    sample = list(np.concatenate((sample_1,sample_2)))\n",
    "    sample_row_idx.append(sample)\n",
    "    size_val = np.random.randint(3,13)\n",
    "    sample_col_idx.append(list(set(np.random.randint(0,13,size = size_val))))"
   ]
  },
  {
   "cell_type": "code",
   "execution_count": 20,
   "metadata": {},
   "outputs": [],
   "source": [
    "x_q= [[0.18,20.0,5.00,0.0,0.421,5.60,72.2,7.95,7.0,30.0,19.1,372.13,18.60]]"
   ]
  },
  {
   "cell_type": "code",
   "execution_count": 21,
   "metadata": {},
   "outputs": [
    {
     "data": {
      "text/html": [
       "<div>\n",
       "<style scoped>\n",
       "    .dataframe tbody tr th:only-of-type {\n",
       "        vertical-align: middle;\n",
       "    }\n",
       "\n",
       "    .dataframe tbody tr th {\n",
       "        vertical-align: top;\n",
       "    }\n",
       "\n",
       "    .dataframe thead th {\n",
       "        text-align: right;\n",
       "    }\n",
       "</style>\n",
       "<table border=\"1\" class=\"dataframe\">\n",
       "  <thead>\n",
       "    <tr style=\"text-align: right;\">\n",
       "      <th></th>\n",
       "      <th>CRIM</th>\n",
       "      <th>ZN</th>\n",
       "      <th>INDUS</th>\n",
       "      <th>CHAS</th>\n",
       "      <th>NOX</th>\n",
       "      <th>RM</th>\n",
       "      <th>AGE</th>\n",
       "      <th>DIS</th>\n",
       "      <th>RAD</th>\n",
       "      <th>TAX</th>\n",
       "      <th>PTRATIO</th>\n",
       "      <th>B</th>\n",
       "      <th>LSTAT</th>\n",
       "    </tr>\n",
       "  </thead>\n",
       "  <tbody>\n",
       "    <tr>\n",
       "      <th>0</th>\n",
       "      <td>0.18</td>\n",
       "      <td>20.0</td>\n",
       "      <td>5.0</td>\n",
       "      <td>0.0</td>\n",
       "      <td>0.421</td>\n",
       "      <td>5.6</td>\n",
       "      <td>72.2</td>\n",
       "      <td>7.95</td>\n",
       "      <td>7.0</td>\n",
       "      <td>30.0</td>\n",
       "      <td>19.1</td>\n",
       "      <td>372.13</td>\n",
       "      <td>18.6</td>\n",
       "    </tr>\n",
       "  </tbody>\n",
       "</table>\n",
       "</div>"
      ],
      "text/plain": [
       "   CRIM    ZN  INDUS  CHAS    NOX   RM   AGE   DIS  RAD   TAX  PTRATIO  \\\n",
       "0  0.18  20.0    5.0   0.0  0.421  5.6  72.2  7.95  7.0  30.0     19.1   \n",
       "\n",
       "        B  LSTAT  \n",
       "0  372.13   18.6  "
      ]
     },
     "execution_count": 21,
     "metadata": {},
     "output_type": "execute_result"
    }
   ],
   "source": [
    "df = pd.DataFrame(x_q, index =[0],columns =['CRIM', 'ZN', 'INDUS', 'CHAS', 'NOX', 'RM', 'AGE', 'DIS', 'RAD', 'TAX',\n",
    "       'PTRATIO', 'B', 'LSTAT'])\n",
    "df"
   ]
  },
  {
   "cell_type": "code",
   "execution_count": 22,
   "metadata": {},
   "outputs": [],
   "source": [
    "corpus = []\n",
    "for i in range(30):\n",
    "    x_sample = x.iloc[sample_row_idx[i],sample_col_idx[i]] \n",
    "    y_sample = y.iloc[sample_row_idx[i]]\n",
    "    regressor = reg()\n",
    "    regressor.fit(x_sample,y_sample)\n",
    "    df_q = df[df.columns.intersection(x_sample.columns)]\n",
    "    corpus.append(regressor.predict(df_q).tolist())"
   ]
  },
  {
   "cell_type": "code",
   "execution_count": 23,
   "metadata": {},
   "outputs": [
    {
     "data": {
      "text/plain": [
       "19.84666666666667"
      ]
     },
     "execution_count": 23,
     "metadata": {},
     "output_type": "execute_result"
    }
   ],
   "source": [
    "avg_val = 0\n",
    "for i in range(len(corpus)):\n",
    "    for j in corpus[i]:\n",
    "        avg_val += j\n",
    "avg_val =  avg_val/30\n",
    "avg_val"
   ]
  },
  {
   "cell_type": "code",
   "execution_count": null,
   "metadata": {},
   "outputs": [],
   "source": []
  }
 ],
 "metadata": {
  "colab": {
   "collapsed_sections": [],
   "name": "Bootstrap_Random_Forest_instructions.ipynb",
   "provenance": []
  },
  "kernelspec": {
   "display_name": "Python 3",
   "language": "python",
   "name": "python3"
  },
  "language_info": {
   "codemirror_mode": {
    "name": "ipython",
    "version": 3
   },
   "file_extension": ".py",
   "mimetype": "text/x-python",
   "name": "python",
   "nbconvert_exporter": "python",
   "pygments_lexer": "ipython3",
   "version": "3.7.3"
  }
 },
 "nbformat": 4,
 "nbformat_minor": 1
}
