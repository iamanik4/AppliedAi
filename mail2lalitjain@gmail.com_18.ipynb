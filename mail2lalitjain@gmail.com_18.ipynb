{
 "cells": [
  {
   "cell_type": "code",
   "execution_count": 1,
   "metadata": {},
   "outputs": [
    {
     "data": {
      "text/html": [
       "<div>\n",
       "<style scoped>\n",
       "    .dataframe tbody tr th:only-of-type {\n",
       "        vertical-align: middle;\n",
       "    }\n",
       "\n",
       "    .dataframe tbody tr th {\n",
       "        vertical-align: top;\n",
       "    }\n",
       "\n",
       "    .dataframe thead th {\n",
       "        text-align: right;\n",
       "    }\n",
       "</style>\n",
       "<table border=\"1\" class=\"dataframe\">\n",
       "  <thead>\n",
       "    <tr style=\"text-align: right;\">\n",
       "      <th></th>\n",
       "      <th>name</th>\n",
       "    </tr>\n",
       "  </thead>\n",
       "  <tbody>\n",
       "    <tr>\n",
       "      <td>0</td>\n",
       "      <td>Movie</td>\n",
       "    </tr>\n",
       "    <tr>\n",
       "      <td>1</td>\n",
       "      <td>Genre</td>\n",
       "    </tr>\n",
       "    <tr>\n",
       "      <td>2</td>\n",
       "      <td>Language</td>\n",
       "    </tr>\n",
       "    <tr>\n",
       "      <td>3</td>\n",
       "      <td>Country</td>\n",
       "    </tr>\n",
       "    <tr>\n",
       "      <td>4</td>\n",
       "      <td>Location</td>\n",
       "    </tr>\n",
       "    <tr>\n",
       "      <td>5</td>\n",
       "      <td>M_Location</td>\n",
       "    </tr>\n",
       "    <tr>\n",
       "      <td>6</td>\n",
       "      <td>M_Country</td>\n",
       "    </tr>\n",
       "    <tr>\n",
       "      <td>7</td>\n",
       "      <td>M_Language</td>\n",
       "    </tr>\n",
       "    <tr>\n",
       "      <td>8</td>\n",
       "      <td>M_Genre</td>\n",
       "    </tr>\n",
       "    <tr>\n",
       "      <td>9</td>\n",
       "      <td>Person</td>\n",
       "    </tr>\n",
       "    <tr>\n",
       "      <td>10</td>\n",
       "      <td>M_Producer</td>\n",
       "    </tr>\n",
       "    <tr>\n",
       "      <td>11</td>\n",
       "      <td>M_Director</td>\n",
       "    </tr>\n",
       "    <tr>\n",
       "      <td>12</td>\n",
       "      <td>M_Cast</td>\n",
       "    </tr>\n",
       "  </tbody>\n",
       "</table>\n",
       "</div>"
      ],
      "text/plain": [
       "          name\n",
       "0        Movie\n",
       "1        Genre\n",
       "2     Language\n",
       "3      Country\n",
       "4     Location\n",
       "5   M_Location\n",
       "6    M_Country\n",
       "7   M_Language\n",
       "8      M_Genre\n",
       "9       Person\n",
       "10  M_Producer\n",
       "11  M_Director\n",
       "12      M_Cast"
      ]
     },
     "execution_count": 1,
     "metadata": {},
     "output_type": "execute_result"
    }
   ],
   "source": [
    "import pandas as pd\n",
    "import sqlite3\n",
    "conn = sqlite3.connect('Db-IMDB.db')\n",
    "table_name = pd.read_sql_query('''SELECT name FROM sqlite_master WHERE type ='table' AND name NOT LIKE 'sqlite_%';''',conn)\n",
    "table_name"
   ]
  },
  {
   "cell_type": "markdown",
   "metadata": {},
   "source": [
    "Q1: List all the directors who directed a 'Comedy' movie in a leap year. (You need to check that the genre is 'Comedy’ and year is a leap year) Your query should return director name, the movie name, and the year."
   ]
  },
  {
   "cell_type": "code",
   "execution_count": 2,
   "metadata": {},
   "outputs": [
    {
     "data": {
      "text/html": [
       "<div>\n",
       "<style scoped>\n",
       "    .dataframe tbody tr th:only-of-type {\n",
       "        vertical-align: middle;\n",
       "    }\n",
       "\n",
       "    .dataframe tbody tr th {\n",
       "        vertical-align: top;\n",
       "    }\n",
       "\n",
       "    .dataframe thead th {\n",
       "        text-align: right;\n",
       "    }\n",
       "</style>\n",
       "<table border=\"1\" class=\"dataframe\">\n",
       "  <thead>\n",
       "    <tr style=\"text-align: right;\">\n",
       "      <th></th>\n",
       "      <th>Name</th>\n",
       "      <th>title</th>\n",
       "      <th>yr</th>\n",
       "      <th>Name</th>\n",
       "    </tr>\n",
       "  </thead>\n",
       "  <tbody>\n",
       "    <tr>\n",
       "      <td>0</td>\n",
       "      <td>Amit Mitra</td>\n",
       "      <td>Jagte Raho</td>\n",
       "      <td>1956</td>\n",
       "      <td>Comedy, Drama</td>\n",
       "    </tr>\n",
       "    <tr>\n",
       "      <td>1</td>\n",
       "      <td>Chetan Anand</td>\n",
       "      <td>Funtoosh</td>\n",
       "      <td>1956</td>\n",
       "      <td>Comedy, Drama</td>\n",
       "    </tr>\n",
       "    <tr>\n",
       "      <td>2</td>\n",
       "      <td>Chetan Anand</td>\n",
       "      <td>Funtoosh</td>\n",
       "      <td>1956</td>\n",
       "      <td>Comedy, Drama</td>\n",
       "    </tr>\n",
       "    <tr>\n",
       "      <td>3</td>\n",
       "      <td>Satyen Bose</td>\n",
       "      <td>Jagriti</td>\n",
       "      <td>1956</td>\n",
       "      <td>Comedy, Drama, Family</td>\n",
       "    </tr>\n",
       "    <tr>\n",
       "      <td>4</td>\n",
       "      <td>Mohan Segal</td>\n",
       "      <td>New Delhi</td>\n",
       "      <td>1956</td>\n",
       "      <td>Comedy, Drama, Musical</td>\n",
       "    </tr>\n",
       "  </tbody>\n",
       "</table>\n",
       "</div>"
      ],
      "text/plain": [
       "           Name       title    yr                                Name\n",
       "0    Amit Mitra  Jagte Raho  1956           Comedy, Drama            \n",
       "1  Chetan Anand    Funtoosh  1956           Comedy, Drama            \n",
       "2  Chetan Anand    Funtoosh  1956           Comedy, Drama            \n",
       "3   Satyen Bose     Jagriti  1956   Comedy, Drama, Family            \n",
       "4   Mohan Segal   New Delhi  1956  Comedy, Drama, Musical            "
      ]
     },
     "execution_count": 2,
     "metadata": {},
     "output_type": "execute_result"
    }
   ],
   "source": [
    "Query_1 = pd.read_sql_query('''SELECT p.Name,m.title,SUBSTR(m.year,-4) as yr,g.Name FROM Person p \n",
    "                               join M_Director md  on p.PID =  md.PID \n",
    "                               join Movie m on m.MID = md.MID   \n",
    "                               join M_Genre mg on mg.MID = m.MID \n",
    "                               join Genre g on g.GID = mg.GID\n",
    "                               WHERE g.Name like '%Comedy%' AND ((yr % 4 = 0 AND yr %100 != 0) OR (yr % 400 = 0) ) \n",
    "                               ORDER BY yr''',conn)\n",
    "Query_1.head()"
   ]
  },
  {
   "cell_type": "code",
   "execution_count": 3,
   "metadata": {},
   "outputs": [
    {
     "data": {
      "text/plain": [
       "(388, 4)"
      ]
     },
     "execution_count": 3,
     "metadata": {},
     "output_type": "execute_result"
    }
   ],
   "source": [
    "Query_1.shape"
   ]
  },
  {
   "cell_type": "markdown",
   "metadata": {},
   "source": [
    "Q2: List the names of all the actors who played in the movie 'Anand' (1971)"
   ]
  },
  {
   "cell_type": "code",
   "execution_count": 4,
   "metadata": {},
   "outputs": [
    {
     "data": {
      "text/html": [
       "<div>\n",
       "<style scoped>\n",
       "    .dataframe tbody tr th:only-of-type {\n",
       "        vertical-align: middle;\n",
       "    }\n",
       "\n",
       "    .dataframe tbody tr th {\n",
       "        vertical-align: top;\n",
       "    }\n",
       "\n",
       "    .dataframe thead th {\n",
       "        text-align: right;\n",
       "    }\n",
       "</style>\n",
       "<table border=\"1\" class=\"dataframe\">\n",
       "  <thead>\n",
       "    <tr style=\"text-align: right;\">\n",
       "      <th></th>\n",
       "      <th>Name</th>\n",
       "      <th>title</th>\n",
       "    </tr>\n",
       "  </thead>\n",
       "  <tbody>\n",
       "    <tr>\n",
       "      <td>0</td>\n",
       "      <td>Amitabh Bachchan</td>\n",
       "      <td>Anand</td>\n",
       "    </tr>\n",
       "    <tr>\n",
       "      <td>1</td>\n",
       "      <td>Rajesh Khanna</td>\n",
       "      <td>Anand</td>\n",
       "    </tr>\n",
       "    <tr>\n",
       "      <td>2</td>\n",
       "      <td>Brahm Bhardwaj</td>\n",
       "      <td>Anand</td>\n",
       "    </tr>\n",
       "    <tr>\n",
       "      <td>3</td>\n",
       "      <td>Ramesh Deo</td>\n",
       "      <td>Anand</td>\n",
       "    </tr>\n",
       "    <tr>\n",
       "      <td>4</td>\n",
       "      <td>Seema Deo</td>\n",
       "      <td>Anand</td>\n",
       "    </tr>\n",
       "  </tbody>\n",
       "</table>\n",
       "</div>"
      ],
      "text/plain": [
       "               Name  title\n",
       "0  Amitabh Bachchan  Anand\n",
       "1     Rajesh Khanna  Anand\n",
       "2    Brahm Bhardwaj  Anand\n",
       "3        Ramesh Deo  Anand\n",
       "4         Seema Deo  Anand"
      ]
     },
     "execution_count": 4,
     "metadata": {},
     "output_type": "execute_result"
    }
   ],
   "source": [
    "Query_2 = pd.read_sql_query('''SELECT p.Name,m.title FROM Person p \n",
    "                               JOIN M_Cast mc on TRIM(mc.PID) = p.PID\n",
    "                               JOIN Movie m ON m.MID = mc.MID\n",
    "                               WHERE m.title LIKE 'Anand'\n",
    "                               ''',conn)\n",
    "Query_2.head()"
   ]
  },
  {
   "cell_type": "code",
   "execution_count": 5,
   "metadata": {},
   "outputs": [
    {
     "data": {
      "text/plain": [
       "(17, 2)"
      ]
     },
     "execution_count": 5,
     "metadata": {},
     "output_type": "execute_result"
    }
   ],
   "source": [
    "Query_2.shape"
   ]
  },
  {
   "cell_type": "markdown",
   "metadata": {},
   "source": [
    "Q3: List all the actors who acted in a film before 1970 and in a film after 1990. (That is: < 1970\n",
    "and > 1990.)"
   ]
  },
  {
   "cell_type": "code",
   "execution_count": 6,
   "metadata": {},
   "outputs": [
    {
     "data": {
      "text/html": [
       "<div>\n",
       "<style scoped>\n",
       "    .dataframe tbody tr th:only-of-type {\n",
       "        vertical-align: middle;\n",
       "    }\n",
       "\n",
       "    .dataframe tbody tr th {\n",
       "        vertical-align: top;\n",
       "    }\n",
       "\n",
       "    .dataframe thead th {\n",
       "        text-align: right;\n",
       "    }\n",
       "</style>\n",
       "<table border=\"1\" class=\"dataframe\">\n",
       "  <thead>\n",
       "    <tr style=\"text-align: right;\">\n",
       "      <th></th>\n",
       "      <th>Director_Name</th>\n",
       "      <th>PID</th>\n",
       "    </tr>\n",
       "  </thead>\n",
       "  <tbody>\n",
       "    <tr>\n",
       "      <td>0</td>\n",
       "      <td>A.K. Hangal</td>\n",
       "      <td>nm0359845</td>\n",
       "    </tr>\n",
       "    <tr>\n",
       "      <td>1</td>\n",
       "      <td>Aachi Manorama</td>\n",
       "      <td>nm7390393</td>\n",
       "    </tr>\n",
       "    <tr>\n",
       "      <td>2</td>\n",
       "      <td>Abbas</td>\n",
       "      <td>nm0007807</td>\n",
       "    </tr>\n",
       "    <tr>\n",
       "      <td>3</td>\n",
       "      <td>Abdul</td>\n",
       "      <td>nm0008248</td>\n",
       "    </tr>\n",
       "    <tr>\n",
       "      <td>4</td>\n",
       "      <td>Abhi Bhattacharya</td>\n",
       "      <td>nm0080337</td>\n",
       "    </tr>\n",
       "  </tbody>\n",
       "</table>\n",
       "</div>"
      ],
      "text/plain": [
       "       Director_Name        PID\n",
       "0        A.K. Hangal  nm0359845\n",
       "1     Aachi Manorama  nm7390393\n",
       "2              Abbas  nm0007807\n",
       "3              Abdul  nm0008248\n",
       "4  Abhi Bhattacharya  nm0080337"
      ]
     },
     "execution_count": 6,
     "metadata": {},
     "output_type": "execute_result"
    }
   ],
   "source": [
    "Query_3 = pd.read_sql_query('''SELECT  DISTINCT TRIM(p.Name)as Director_Name,p.PID FROM Person p \n",
    "                               JOIN M_Cast mc ON TRIM(mc.PID) = p.PID\n",
    "                               JOIN Movie m ON m.MID = mc.MID\n",
    "                               WHERE CAST(SUBSTR(m.year,-4) AS INTEGER) < 1970\n",
    "                               INTERSECT\n",
    "                               SELECT  DISTINCT TRIM(p.Name),p.PID FROM Person p \n",
    "                               JOIN M_Cast mc ON TRIM(mc.PID) = p.PID\n",
    "                               JOIN Movie m ON m.MID = mc.MID\n",
    "                               WHERE CAST(SUBSTR(m.year,-4) AS INTEGER) > 1990\n",
    "                            \n",
    "                                '''\n",
    "                                ,conn)\n",
    "Query_3.head()"
   ]
  },
  {
   "cell_type": "code",
   "execution_count": 7,
   "metadata": {},
   "outputs": [
    {
     "data": {
      "text/plain": [
       "(300, 2)"
      ]
     },
     "execution_count": 7,
     "metadata": {},
     "output_type": "execute_result"
    }
   ],
   "source": [
    "Query_3.shape"
   ]
  },
  {
   "cell_type": "markdown",
   "metadata": {},
   "source": [
    "Q4: List all directors who directed 10 movies or more, in descending order of the number of\n",
    "movies they directed. Return the directors' names and the number of movies each of them\n",
    "directed"
   ]
  },
  {
   "cell_type": "code",
   "execution_count": 8,
   "metadata": {},
   "outputs": [
    {
     "data": {
      "text/html": [
       "<div>\n",
       "<style scoped>\n",
       "    .dataframe tbody tr th:only-of-type {\n",
       "        vertical-align: middle;\n",
       "    }\n",
       "\n",
       "    .dataframe tbody tr th {\n",
       "        vertical-align: top;\n",
       "    }\n",
       "\n",
       "    .dataframe thead th {\n",
       "        text-align: right;\n",
       "    }\n",
       "</style>\n",
       "<table border=\"1\" class=\"dataframe\">\n",
       "  <thead>\n",
       "    <tr style=\"text-align: right;\">\n",
       "      <th></th>\n",
       "      <th>Director_Name</th>\n",
       "      <th>COUNT(md.MID)</th>\n",
       "    </tr>\n",
       "  </thead>\n",
       "  <tbody>\n",
       "    <tr>\n",
       "      <td>0</td>\n",
       "      <td>David Dhawan</td>\n",
       "      <td>78</td>\n",
       "    </tr>\n",
       "    <tr>\n",
       "      <td>1</td>\n",
       "      <td>Mahesh Bhatt</td>\n",
       "      <td>72</td>\n",
       "    </tr>\n",
       "    <tr>\n",
       "      <td>2</td>\n",
       "      <td>Ram Gopal Varma</td>\n",
       "      <td>60</td>\n",
       "    </tr>\n",
       "    <tr>\n",
       "      <td>3</td>\n",
       "      <td>Vikram Bhatt</td>\n",
       "      <td>58</td>\n",
       "    </tr>\n",
       "    <tr>\n",
       "      <td>4</td>\n",
       "      <td>Hrishikesh Mukherjee</td>\n",
       "      <td>54</td>\n",
       "    </tr>\n",
       "  </tbody>\n",
       "</table>\n",
       "</div>"
      ],
      "text/plain": [
       "          Director_Name  COUNT(md.MID)\n",
       "0          David Dhawan             78\n",
       "1          Mahesh Bhatt             72\n",
       "2       Ram Gopal Varma             60\n",
       "3          Vikram Bhatt             58\n",
       "4  Hrishikesh Mukherjee             54"
      ]
     },
     "execution_count": 8,
     "metadata": {},
     "output_type": "execute_result"
    }
   ],
   "source": [
    "Query_4 = pd.read_sql_query('''SELECT DISTINCT p.name as Director_Name,COUNT(md.MID) FROM Person p \n",
    "                               JOIN M_Director md on md.PID = p.PID\n",
    "                               GROUP BY Director_Name \n",
    "                               HAVING COUNT(md.MID) >= 10\n",
    "                               ORDER BY COUNT(md.MID) DESC\n",
    "                               ''',conn)\n",
    "Query_4.head()"
   ]
  },
  {
   "cell_type": "code",
   "execution_count": 9,
   "metadata": {},
   "outputs": [
    {
     "data": {
      "text/plain": [
       "(156, 2)"
      ]
     },
     "execution_count": 9,
     "metadata": {},
     "output_type": "execute_result"
    }
   ],
   "source": [
    "Query_4.shape"
   ]
  },
  {
   "cell_type": "markdown",
   "metadata": {},
   "source": [
    "Q5a: For each year, count the number of movies in that year that had only female actors."
   ]
  },
  {
   "cell_type": "code",
   "execution_count": 10,
   "metadata": {},
   "outputs": [
    {
     "data": {
      "text/html": [
       "<div>\n",
       "<style scoped>\n",
       "    .dataframe tbody tr th:only-of-type {\n",
       "        vertical-align: middle;\n",
       "    }\n",
       "\n",
       "    .dataframe tbody tr th {\n",
       "        vertical-align: top;\n",
       "    }\n",
       "\n",
       "    .dataframe thead th {\n",
       "        text-align: right;\n",
       "    }\n",
       "</style>\n",
       "<table border=\"1\" class=\"dataframe\">\n",
       "  <thead>\n",
       "    <tr style=\"text-align: right;\">\n",
       "      <th></th>\n",
       "      <th>year</th>\n",
       "      <th>num_female_movie</th>\n",
       "    </tr>\n",
       "  </thead>\n",
       "  <tbody>\n",
       "    <tr>\n",
       "      <td>0</td>\n",
       "      <td>1939</td>\n",
       "      <td>1</td>\n",
       "    </tr>\n",
       "    <tr>\n",
       "      <td>1</td>\n",
       "      <td>1999</td>\n",
       "      <td>1</td>\n",
       "    </tr>\n",
       "    <tr>\n",
       "      <td>2</td>\n",
       "      <td>2000</td>\n",
       "      <td>1</td>\n",
       "    </tr>\n",
       "    <tr>\n",
       "      <td>3</td>\n",
       "      <td>2009</td>\n",
       "      <td>1</td>\n",
       "    </tr>\n",
       "    <tr>\n",
       "      <td>4</td>\n",
       "      <td>2012</td>\n",
       "      <td>1</td>\n",
       "    </tr>\n",
       "    <tr>\n",
       "      <td>5</td>\n",
       "      <td>2018</td>\n",
       "      <td>2</td>\n",
       "    </tr>\n",
       "  </tbody>\n",
       "</table>\n",
       "</div>"
      ],
      "text/plain": [
       "   year  num_female_movie\n",
       "0  1939                 1\n",
       "1  1999                 1\n",
       "2  2000                 1\n",
       "3  2009                 1\n",
       "4  2012                 1\n",
       "5  2018                 2"
      ]
     },
     "execution_count": 10,
     "metadata": {},
     "output_type": "execute_result"
    }
   ],
   "source": [
    "Query_5a = pd.read_sql_query(''' SELECT M.year,COUNT(M.MID) as num_female_movie FROM Movie M \n",
    "                                 WHERE NOT EXISTS (SELECT M.MID FROM Movie\n",
    "                                 JOIN M_Cast C on C.MID = M.MID \n",
    "                                 JOIN Person P on P.PID = C.PID\n",
    "                                 WHERE P.gender = 'Male')\n",
    "                                 GROUP BY M.year''',conn)\n",
    "Query_5a"
   ]
  },
  {
   "cell_type": "markdown",
   "metadata": {},
   "source": [
    "Q5b: Now include a small change: report for each year the percentage of movies in that \n",
    "year with only female actors, and the total number of movies made that year. For\n",
    "example, one answer will be: 1990 31.81 13522 meaning that in 1990 there were\n",
    "13,522 movies, and 31.81% had only female actors. You do not need to round youanswer."
   ]
  },
  {
   "cell_type": "code",
   "execution_count": 11,
   "metadata": {},
   "outputs": [
    {
     "data": {
      "text/html": [
       "<div>\n",
       "<style scoped>\n",
       "    .dataframe tbody tr th:only-of-type {\n",
       "        vertical-align: middle;\n",
       "    }\n",
       "\n",
       "    .dataframe tbody tr th {\n",
       "        vertical-align: top;\n",
       "    }\n",
       "\n",
       "    .dataframe thead th {\n",
       "        text-align: right;\n",
       "    }\n",
       "</style>\n",
       "<table border=\"1\" class=\"dataframe\">\n",
       "  <thead>\n",
       "    <tr style=\"text-align: right;\">\n",
       "      <th></th>\n",
       "      <th>year</th>\n",
       "      <th>total_Movie</th>\n",
       "      <th>percentage</th>\n",
       "    </tr>\n",
       "  </thead>\n",
       "  <tbody>\n",
       "    <tr>\n",
       "      <td>0</td>\n",
       "      <td>1939</td>\n",
       "      <td>2</td>\n",
       "      <td>50.000000</td>\n",
       "    </tr>\n",
       "    <tr>\n",
       "      <td>1</td>\n",
       "      <td>1999</td>\n",
       "      <td>66</td>\n",
       "      <td>1.515152</td>\n",
       "    </tr>\n",
       "    <tr>\n",
       "      <td>2</td>\n",
       "      <td>2000</td>\n",
       "      <td>64</td>\n",
       "      <td>1.562500</td>\n",
       "    </tr>\n",
       "    <tr>\n",
       "      <td>3</td>\n",
       "      <td>2009</td>\n",
       "      <td>110</td>\n",
       "      <td>0.909091</td>\n",
       "    </tr>\n",
       "    <tr>\n",
       "      <td>4</td>\n",
       "      <td>2012</td>\n",
       "      <td>111</td>\n",
       "      <td>0.900901</td>\n",
       "    </tr>\n",
       "    <tr>\n",
       "      <td>5</td>\n",
       "      <td>2018</td>\n",
       "      <td>104</td>\n",
       "      <td>1.923077</td>\n",
       "    </tr>\n",
       "  </tbody>\n",
       "</table>\n",
       "</div>"
      ],
      "text/plain": [
       "   year  total_Movie  percentage\n",
       "0  1939            2   50.000000\n",
       "1  1999           66    1.515152\n",
       "2  2000           64    1.562500\n",
       "3  2009          110    0.909091\n",
       "4  2012          111    0.900901\n",
       "5  2018          104    1.923077"
      ]
     },
     "execution_count": 11,
     "metadata": {},
     "output_type": "execute_result"
    }
   ],
   "source": [
    "Query_5b = pd.read_sql_query(''' select SUB_1.year, SUB_2.C as total_Movie,SUB_1.c*100.00/SUB_2.C as percentage \n",
    "                                 from (select M.year, count(*) as C\n",
    "                                       from movie M where not exists\n",
    "                                      (select * from Person P, M_Cast C1\n",
    "                                      where P.PID = C1.PID and \n",
    "                                      C1.mid = M.MID and  NOT P.gender='Female')\n",
    "                                      group by M.year) SUB_1,\n",
    "                                      (select M2.year, count(*) as C from movie M2 group by M2.year) SUB_2\n",
    "                                       where SUB_1.year=SUB_2.year\n",
    "                                       order by SUB_1.year\n",
    "                                 ''',conn)\n",
    "Query_5b"
   ]
  },
  {
   "cell_type": "markdown",
   "metadata": {},
   "source": [
    "Q6: Find the film(s) with the largest cast. Return the movie title and the size of the cast. By \"cast\n",
    "size\" we mean the number of distinct actors that played in that movie: if an actor played\n",
    "multiple roles, or if it simply occurs multiple times in casts, we still count her/him only\n",
    "once."
   ]
  },
  {
   "cell_type": "code",
   "execution_count": 12,
   "metadata": {},
   "outputs": [
    {
     "data": {
      "text/html": [
       "<div>\n",
       "<style scoped>\n",
       "    .dataframe tbody tr th:only-of-type {\n",
       "        vertical-align: middle;\n",
       "    }\n",
       "\n",
       "    .dataframe tbody tr th {\n",
       "        vertical-align: top;\n",
       "    }\n",
       "\n",
       "    .dataframe thead th {\n",
       "        text-align: right;\n",
       "    }\n",
       "</style>\n",
       "<table border=\"1\" class=\"dataframe\">\n",
       "  <thead>\n",
       "    <tr style=\"text-align: right;\">\n",
       "      <th></th>\n",
       "      <th>title</th>\n",
       "      <th>Cast</th>\n",
       "      <th>MID</th>\n",
       "    </tr>\n",
       "  </thead>\n",
       "  <tbody>\n",
       "    <tr>\n",
       "      <td>0</td>\n",
       "      <td>Ocean's Eight</td>\n",
       "      <td>238</td>\n",
       "      <td>tt5164214</td>\n",
       "    </tr>\n",
       "  </tbody>\n",
       "</table>\n",
       "</div>"
      ],
      "text/plain": [
       "           title  Cast        MID\n",
       "0  Ocean's Eight   238  tt5164214"
      ]
     },
     "execution_count": 12,
     "metadata": {},
     "output_type": "execute_result"
    }
   ],
   "source": [
    "Query_6 = pd.read_sql_query('''SELECT title,MAX(Cast_size) as Cast,MID FROM\n",
    "                               (SELECT COUNT(PID) Cast_size,M.MID,M.title  FROM Movie M\n",
    "                               JOIN M_Cast C on C.MID = M.MID \n",
    "                               GROUP BY M.MID)''',conn)\n",
    "Query_6"
   ]
  },
  {
   "cell_type": "markdown",
   "metadata": {},
   "source": [
    "Q7: A decade is a sequence of 10 consecutive years. For example, say in your database you have\n",
    "movie information starting from 1965. Then the first decade is 1965, 1966, ..., 1974; the\n",
    "second one is 1967, 1968, ..., 1976 and so on. Find the decade D with the largest number of\n",
    "films and the total number of films in D"
   ]
  },
  {
   "cell_type": "code",
   "execution_count": 13,
   "metadata": {},
   "outputs": [
    {
     "data": {
      "text/html": [
       "<div>\n",
       "<style scoped>\n",
       "    .dataframe tbody tr th:only-of-type {\n",
       "        vertical-align: middle;\n",
       "    }\n",
       "\n",
       "    .dataframe tbody tr th {\n",
       "        vertical-align: top;\n",
       "    }\n",
       "\n",
       "    .dataframe thead th {\n",
       "        text-align: right;\n",
       "    }\n",
       "</style>\n",
       "<table border=\"1\" class=\"dataframe\">\n",
       "  <thead>\n",
       "    <tr style=\"text-align: right;\">\n",
       "      <th></th>\n",
       "      <th>dec_start</th>\n",
       "      <th>dec_end</th>\n",
       "      <th>Max(num_movies)</th>\n",
       "    </tr>\n",
       "  </thead>\n",
       "  <tbody>\n",
       "    <tr>\n",
       "      <td>0</td>\n",
       "      <td>2001</td>\n",
       "      <td>2010</td>\n",
       "      <td>1047</td>\n",
       "    </tr>\n",
       "  </tbody>\n",
       "</table>\n",
       "</div>"
      ],
      "text/plain": [
       "   dec_start  dec_end  Max(num_movies)\n",
       "0       2001     2010             1047"
      ]
     },
     "execution_count": 13,
     "metadata": {},
     "output_type": "execute_result"
    }
   ],
   "source": [
    "Query_7 = pd.read_sql_query(''' SELECT dec_start,dec_end,Max(num_movies) FROM (SELECT \n",
    "                               (year-yr.digit)/ 10 * 10 + yr.digit as dec_start, \n",
    "                               (year-yr.digit)/ 10 * 10 + yr.digit + 9 as dec_end,\n",
    "                              COUNT (TRIM(MID)) as num_movies\n",
    "                              FROM  Movie Cross JOIN (SELECT MIN(year) % 10 digit FROM Movie) yr\n",
    "                              GROUP BY dec_start, dec_end \n",
    "                              ORDER BY year)''',conn)\n",
    "Query_7"
   ]
  },
  {
   "cell_type": "markdown",
   "metadata": {},
   "source": [
    "OR If for each year it is considered as decade start"
   ]
  },
  {
   "cell_type": "code",
   "execution_count": 14,
   "metadata": {},
   "outputs": [
    {
     "data": {
      "text/html": [
       "<div>\n",
       "<style scoped>\n",
       "    .dataframe tbody tr th:only-of-type {\n",
       "        vertical-align: middle;\n",
       "    }\n",
       "\n",
       "    .dataframe tbody tr th {\n",
       "        vertical-align: top;\n",
       "    }\n",
       "\n",
       "    .dataframe thead th {\n",
       "        text-align: right;\n",
       "    }\n",
       "</style>\n",
       "<table border=\"1\" class=\"dataframe\">\n",
       "  <thead>\n",
       "    <tr style=\"text-align: right;\">\n",
       "      <th></th>\n",
       "      <th>dec_start</th>\n",
       "      <th>dec_end</th>\n",
       "      <th>num_movies</th>\n",
       "    </tr>\n",
       "  </thead>\n",
       "  <tbody>\n",
       "    <tr>\n",
       "      <td>0</td>\n",
       "      <td>2008</td>\n",
       "      <td>2017</td>\n",
       "      <td>1205</td>\n",
       "    </tr>\n",
       "    <tr>\n",
       "      <td>1</td>\n",
       "      <td>2009</td>\n",
       "      <td>2018</td>\n",
       "      <td>1202</td>\n",
       "    </tr>\n",
       "    <tr>\n",
       "      <td>2</td>\n",
       "      <td>2007</td>\n",
       "      <td>2016</td>\n",
       "      <td>1188</td>\n",
       "    </tr>\n",
       "    <tr>\n",
       "      <td>3</td>\n",
       "      <td>2005</td>\n",
       "      <td>2014</td>\n",
       "      <td>1170</td>\n",
       "    </tr>\n",
       "    <tr>\n",
       "      <td>4</td>\n",
       "      <td>2006</td>\n",
       "      <td>2015</td>\n",
       "      <td>1160</td>\n",
       "    </tr>\n",
       "  </tbody>\n",
       "</table>\n",
       "</div>"
      ],
      "text/plain": [
       "  dec_start  dec_end  num_movies\n",
       "0      2008     2017        1205\n",
       "1      2009     2018        1202\n",
       "2      2007     2016        1188\n",
       "3      2005     2014        1170\n",
       "4      2006     2015        1160"
      ]
     },
     "execution_count": 14,
     "metadata": {},
     "output_type": "execute_result"
    }
   ],
   "source": [
    "query_7 = pd.read_sql_query('''SELECT yr.year as dec_start,yr.year + 9 as dec_end,COUNT(DISTINCT m.MID) as num_movies\n",
    "                             FROM  (SELECT DISTINCT year FROM Movie) yr ,Movie m WHERE m.year >= yr.year\n",
    "                             AND m.year < yr.year + 10\n",
    "                             GROUP BY yr.year \n",
    "                             ORDER BY COUNT(DISTINCT m.MID) DESC\n",
    "                             ''',conn)\n",
    "query_7.head()"
   ]
  },
  {
   "cell_type": "markdown",
   "metadata": {},
   "source": [
    "Q8: Find the actors that were never unemployed for more than 3 years at a stretch. (Assume\n",
    "that the actors remain unemployed between two consecutive movies)"
   ]
  },
  {
   "cell_type": "code",
   "execution_count": 15,
   "metadata": {},
   "outputs": [
    {
     "data": {
      "text/html": [
       "<div>\n",
       "<style scoped>\n",
       "    .dataframe tbody tr th:only-of-type {\n",
       "        vertical-align: middle;\n",
       "    }\n",
       "\n",
       "    .dataframe tbody tr th {\n",
       "        vertical-align: top;\n",
       "    }\n",
       "\n",
       "    .dataframe thead th {\n",
       "        text-align: right;\n",
       "    }\n",
       "</style>\n",
       "<table border=\"1\" class=\"dataframe\">\n",
       "  <thead>\n",
       "    <tr style=\"text-align: right;\">\n",
       "      <th></th>\n",
       "      <th>PID</th>\n",
       "      <th>Name</th>\n",
       "      <th>year</th>\n",
       "      <th>nxt_yr</th>\n",
       "      <th>Gap</th>\n",
       "    </tr>\n",
       "  </thead>\n",
       "  <tbody>\n",
       "    <tr>\n",
       "      <td>0</td>\n",
       "      <td>nm0405340</td>\n",
       "      <td>Olaf Hytten</td>\n",
       "      <td>1939</td>\n",
       "      <td>1941</td>\n",
       "      <td>2</td>\n",
       "    </tr>\n",
       "    <tr>\n",
       "      <td>1</td>\n",
       "      <td>nm0442470</td>\n",
       "      <td>Kamini Kaushal</td>\n",
       "      <td>1946</td>\n",
       "      <td>1948</td>\n",
       "      <td>2</td>\n",
       "    </tr>\n",
       "    <tr>\n",
       "      <td>2</td>\n",
       "      <td>nm0474801</td>\n",
       "      <td>Dilip Kumar</td>\n",
       "      <td>1947</td>\n",
       "      <td>1948</td>\n",
       "      <td>1</td>\n",
       "    </tr>\n",
       "    <tr>\n",
       "      <td>3</td>\n",
       "      <td>nm0534870</td>\n",
       "      <td>Madhubala</td>\n",
       "      <td>1947</td>\n",
       "      <td>1949</td>\n",
       "      <td>2</td>\n",
       "    </tr>\n",
       "    <tr>\n",
       "      <td>4</td>\n",
       "      <td>nm0420451</td>\n",
       "      <td>Noor Jehan</td>\n",
       "      <td>1947</td>\n",
       "      <td>1948</td>\n",
       "      <td>1</td>\n",
       "    </tr>\n",
       "  </tbody>\n",
       "</table>\n",
       "</div>"
      ],
      "text/plain": [
       "         PID            Name  year nxt_yr  Gap\n",
       "0  nm0405340     Olaf Hytten  1939   1941    2\n",
       "1  nm0442470  Kamini Kaushal  1946   1948    2\n",
       "2  nm0474801     Dilip Kumar  1947   1948    1\n",
       "3  nm0534870       Madhubala  1947   1949    2\n",
       "4  nm0420451      Noor Jehan  1947   1948    1"
      ]
     },
     "execution_count": 15,
     "metadata": {},
     "output_type": "execute_result"
    }
   ],
   "source": [
    "Query_8 = pd.read_sql_query('''Select DISTINCT B.*, (B.nxt_yr - B.year) as Gap From \n",
    "                               (Select A.PID,A.Name,A.year,\n",
    "                                Lead(M.year,1,0) Over (Partition By A.Name Order By A.year ASC) as nxt_yr\n",
    "                                From( (Select Distinct PID,Name from Person) P\n",
    "                                     Join (Select Distinct MID,PID From M_Cast )C on P.PID = C.PID \n",
    "                                     Join (Select Distinct MID,title,year From Movie)M on M.MID = C.MID) A) B\n",
    "                                Where B.nxt_yr > B.year AND (B.nxt_yr - B.year) < 3\n",
    "                                Order By B.year\n",
    "                                 ''',conn)\n",
    "Query_8.head()"
   ]
  },
  {
   "cell_type": "code",
   "execution_count": 16,
   "metadata": {},
   "outputs": [
    {
     "data": {
      "text/plain": [
       "(21480, 5)"
      ]
     },
     "execution_count": 16,
     "metadata": {},
     "output_type": "execute_result"
    }
   ],
   "source": [
    "Query_8.shape"
   ]
  },
  {
   "cell_type": "markdown",
   "metadata": {},
   "source": [
    "Q9: Find all the actors that made more movies with Yash Chopra than any other director"
   ]
  },
  {
   "cell_type": "code",
   "execution_count": 4,
   "metadata": {},
   "outputs": [
    {
     "data": {
      "text/html": [
       "<div>\n",
       "<style scoped>\n",
       "    .dataframe tbody tr th:only-of-type {\n",
       "        vertical-align: middle;\n",
       "    }\n",
       "\n",
       "    .dataframe tbody tr th {\n",
       "        vertical-align: top;\n",
       "    }\n",
       "\n",
       "    .dataframe thead th {\n",
       "        text-align: right;\n",
       "    }\n",
       "</style>\n",
       "<table border=\"1\" class=\"dataframe\">\n",
       "  <thead>\n",
       "    <tr style=\"text-align: right;\">\n",
       "      <th></th>\n",
       "      <th>Name</th>\n",
       "      <th>PID</th>\n",
       "      <th>Num_Movie_wid_YC</th>\n",
       "    </tr>\n",
       "  </thead>\n",
       "  <tbody>\n",
       "    <tr>\n",
       "      <td>0</td>\n",
       "      <td>Jagdish Raj</td>\n",
       "      <td>nm0707271</td>\n",
       "      <td>11</td>\n",
       "    </tr>\n",
       "    <tr>\n",
       "      <td>1</td>\n",
       "      <td>Manmohan Krishna</td>\n",
       "      <td>nm0471443</td>\n",
       "      <td>10</td>\n",
       "    </tr>\n",
       "    <tr>\n",
       "      <td>2</td>\n",
       "      <td>Iftekhar</td>\n",
       "      <td>nm0407002</td>\n",
       "      <td>9</td>\n",
       "    </tr>\n",
       "    <tr>\n",
       "      <td>3</td>\n",
       "      <td>Madan Puri</td>\n",
       "      <td>nm0534501</td>\n",
       "      <td>8</td>\n",
       "    </tr>\n",
       "    <tr>\n",
       "      <td>4</td>\n",
       "      <td>Vikas Anand</td>\n",
       "      <td>nm0025630</td>\n",
       "      <td>8</td>\n",
       "    </tr>\n",
       "  </tbody>\n",
       "</table>\n",
       "</div>"
      ],
      "text/plain": [
       "               Name        PID  Num_Movie_wid_YC\n",
       "0       Jagdish Raj  nm0707271                11\n",
       "1  Manmohan Krishna  nm0471443                10\n",
       "2          Iftekhar  nm0407002                 9\n",
       "3        Madan Puri  nm0534501                 8\n",
       "4       Vikas Anand  nm0025630                 8"
      ]
     },
     "execution_count": 4,
     "metadata": {},
     "output_type": "execute_result"
    }
   ],
   "source": [
    "Query_9 = pd.read_sql_query('''SELECT Distinct P1.Name,P1.PID,Count(Distinct M1.MID) as Num_Movie_wid_YC FROM Person P1 \n",
    "                         Join M_Cast C on C.PID = P1.PID\n",
    "                         Join Movie M1 on M1.MID = C.MID\n",
    "                         Join M_Director D on D.MID = M1.MID\n",
    "                         Join Person P2 on D.PID = P2.PID \n",
    "                         Where P2.Name = 'Yash Chopra'\n",
    "                         Group By P1.PID\n",
    "                         Having Num_Movie_wid_YC >\n",
    "                         (Select  Count (Distinct M2.MID) From Movie M2\n",
    "                         Join M_Cast C2 on C2.MID = M2.MID\n",
    "                         Join Person P3 on C2.PID = P3.PID\n",
    "                         Join M_Director D2 on D2.MID = M2.MID\n",
    "                         Join Person P4 on D2.PID = P4.PID\n",
    "                         Where P3.PID = P1.PID and NOT P4.Name = 'Yash Chopra' \n",
    "                         Group By P3.PID,D2.PID)\n",
    "                         Order By Num_Movie_wid_YC DESC\n",
    "                         ''',conn)\n",
    "Query_9.head()"
   ]
  },
  {
   "cell_type": "code",
   "execution_count": 27,
   "metadata": {},
   "outputs": [
    {
     "data": {
      "text/plain": [
       "(65, 3)"
      ]
     },
     "execution_count": 27,
     "metadata": {},
     "output_type": "execute_result"
    }
   ],
   "source": [
    "Query_9.shape"
   ]
  },
  {
   "cell_type": "markdown",
   "metadata": {},
   "source": [
    "Q10: The Shahrukh number of an actor is the length of the shortest path between the actor and Shahrukh Khan in the \"co-acting\" graph. That is, Shahrukh Khan has Shahrukh number 0; all actors who acted in the same film as Shahrukh have Shahrukh number 1; all actors who acted in the same film as some actor with Shahrukh number 1 have Shahrukh number 2, etc. Return all actors whose Shahrukh number is 2. "
   ]
  },
  {
   "cell_type": "code",
   "execution_count": 46,
   "metadata": {},
   "outputs": [
    {
     "data": {
      "text/html": [
       "<div>\n",
       "<style scoped>\n",
       "    .dataframe tbody tr th:only-of-type {\n",
       "        vertical-align: middle;\n",
       "    }\n",
       "\n",
       "    .dataframe tbody tr th {\n",
       "        vertical-align: top;\n",
       "    }\n",
       "\n",
       "    .dataframe thead th {\n",
       "        text-align: right;\n",
       "    }\n",
       "</style>\n",
       "<table border=\"1\" class=\"dataframe\">\n",
       "  <thead>\n",
       "    <tr style=\"text-align: right;\">\n",
       "      <th></th>\n",
       "      <th>Name</th>\n",
       "    </tr>\n",
       "  </thead>\n",
       "  <tbody>\n",
       "    <tr>\n",
       "      <td>0</td>\n",
       "      <td>Kristin Scott Thomas</td>\n",
       "    </tr>\n",
       "    <tr>\n",
       "      <td>1</td>\n",
       "      <td>Derek Jacobi</td>\n",
       "    </tr>\n",
       "    <tr>\n",
       "      <td>2</td>\n",
       "      <td>Nick Frost</td>\n",
       "    </tr>\n",
       "    <tr>\n",
       "      <td>3</td>\n",
       "      <td>Walton Goggins</td>\n",
       "    </tr>\n",
       "    <tr>\n",
       "      <td>4</td>\n",
       "      <td>Michael Obiora</td>\n",
       "    </tr>\n",
       "  </tbody>\n",
       "</table>\n",
       "</div>"
      ],
      "text/plain": [
       "                   Name\n",
       "0  Kristin Scott Thomas\n",
       "1          Derek Jacobi\n",
       "2            Nick Frost\n",
       "3        Walton Goggins\n",
       "4        Michael Obiora"
      ]
     },
     "execution_count": 46,
     "metadata": {},
     "output_type": "execute_result"
    }
   ],
   "source": [
    "Query_10 = pd.read_sql_query('''Select DISTINCT P3.Name From Person P3\n",
    "                                Join M_Cast C4 on C4.PID = P3.PID\n",
    "                                Join Movie M4 on M4.MID = C4.MID\n",
    "                                Where M4.MID in (\n",
    "                                Select DISTINCT M3.MID From Movie M3\n",
    "                                Join M_Cast C3 on C3.MID = M3.MID\n",
    "                                Where C3.PID in( \n",
    "                                Select Distinct P2.PID From Person P2\n",
    "                                Join M_Cast C2 on C2.PID = P2.PID\n",
    "                                Join Movie M2 on M2.MID = C2.MID\n",
    "                                Where M2.MID IN (\n",
    "                                Select Distinct M1.MID as SRK_Muvi_id From Person P1\n",
    "                                Join M_Cast C1 on C1.PID = P1.PID\n",
    "                                Join Movie M1 on M1.MID  = C1.MID  \n",
    "                                Where P1.Name = 'Shah Rukh Khan'))\n",
    "                                And Not M3.MID in (\n",
    "                                Select Distinct M1.MID as SRK_Muvi_id From Person P1\n",
    "                                Join M_Cast C1 on C1.PID = P1.PID\n",
    "                                Join Movie M1 on M1.MID  = C1.MID  \n",
    "                                Where P1.Name = 'Shah Rukh Khan'))\n",
    "                                \n",
    "                                 ''',conn)\n",
    "Query_10.head()"
   ]
  },
  {
   "cell_type": "code",
   "execution_count": 47,
   "metadata": {},
   "outputs": [
    {
     "data": {
      "text/plain": [
       "(25612, 1)"
      ]
     },
     "execution_count": 47,
     "metadata": {},
     "output_type": "execute_result"
    }
   ],
   "source": [
    "Query_10.shape"
   ]
  },
  {
   "cell_type": "markdown",
   "metadata": {},
   "source": [
    "Note:- Due to duplicate values count may differ than the actual results"
   ]
  }
 ],
 "metadata": {
  "kernelspec": {
   "display_name": "Python 3",
   "language": "python",
   "name": "python3"
  },
  "language_info": {
   "codemirror_mode": {
    "name": "ipython",
    "version": 3
   },
   "file_extension": ".py",
   "mimetype": "text/x-python",
   "name": "python",
   "nbconvert_exporter": "python",
   "pygments_lexer": "ipython3",
   "version": "3.7.4"
  }
 },
 "nbformat": 4,
 "nbformat_minor": 2
}
